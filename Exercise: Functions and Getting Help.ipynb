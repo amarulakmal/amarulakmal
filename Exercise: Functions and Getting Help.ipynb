{
 "cells": [
  {
   "cell_type": "markdown",
   "id": "1a872bfa",
   "metadata": {
    "papermill": {
     "duration": 0.004743,
     "end_time": "2025-06-23T08:17:17.055514",
     "exception": false,
     "start_time": "2025-06-23T08:17:17.050771",
     "status": "completed"
    },
    "tags": []
   },
   "source": [
    "**This notebook is an exercise in the [Python](https://www.kaggle.com/learn/python) course.  You can reference the tutorial at [this link](https://www.kaggle.com/colinmorris/functions-and-getting-help).**\n",
    "\n",
    "---\n"
   ]
  },
  {
   "cell_type": "markdown",
   "id": "5bbd03b7",
   "metadata": {
    "papermill": {
     "duration": 0.003181,
     "end_time": "2025-06-23T08:17:17.062608",
     "exception": false,
     "start_time": "2025-06-23T08:17:17.059427",
     "status": "completed"
    },
    "tags": []
   },
   "source": [
    "Functions are powerful. Try writing some yourself.\n",
    "\n",
    "As before, don't forget to run the setup code below before jumping into question 1."
   ]
  },
  {
   "cell_type": "code",
   "execution_count": 1,
   "id": "0f101129",
   "metadata": {
    "_kg_hide-input": true,
    "_kg_hide-output": true,
    "execution": {
     "iopub.execute_input": "2025-06-23T08:17:17.071580Z",
     "iopub.status.busy": "2025-06-23T08:17:17.070606Z",
     "iopub.status.idle": "2025-06-23T08:17:19.141263Z",
     "shell.execute_reply": "2025-06-23T08:17:19.140087Z"
    },
    "papermill": {
     "duration": 2.076801,
     "end_time": "2025-06-23T08:17:19.142949",
     "exception": false,
     "start_time": "2025-06-23T08:17:17.066148",
     "status": "completed"
    },
    "tags": []
   },
   "outputs": [
    {
     "name": "stdout",
     "output_type": "stream",
     "text": [
      "Setup complete.\n"
     ]
    }
   ],
   "source": [
    "# SETUP. You don't need to worry for now about what this code does or how it works.\n",
    "from learntools.core import binder; binder.bind(globals())\n",
    "from learntools.python.ex2 import *\n",
    "print('Setup complete.')"
   ]
  },
  {
   "cell_type": "markdown",
   "id": "b6ff064d",
   "metadata": {
    "papermill": {
     "duration": 0.003366,
     "end_time": "2025-06-23T08:17:19.150133",
     "exception": false,
     "start_time": "2025-06-23T08:17:19.146767",
     "status": "completed"
    },
    "tags": []
   },
   "source": [
    "# 1.\n",
    "\n",
    "Complete the body of the following function according to its docstring.\n",
    "\n",
    "HINT: Python has a built-in function `round`."
   ]
  },
  {
   "cell_type": "code",
   "execution_count": 2,
   "id": "f3aabcb2",
   "metadata": {
    "execution": {
     "iopub.execute_input": "2025-06-23T08:17:19.158458Z",
     "iopub.status.busy": "2025-06-23T08:17:19.158012Z",
     "iopub.status.idle": "2025-06-23T08:17:19.167265Z",
     "shell.execute_reply": "2025-06-23T08:17:19.166130Z"
    },
    "papermill": {
     "duration": 0.015245,
     "end_time": "2025-06-23T08:17:19.168888",
     "exception": false,
     "start_time": "2025-06-23T08:17:19.153643",
     "status": "completed"
    },
    "tags": []
   },
   "outputs": [
    {
     "data": {
      "application/javascript": [
       "parent.postMessage({\"jupyterEvent\": \"custom.exercise_interaction\", \"data\": {\"outcomeType\": 1, \"valueTowardsCompletion\": 0.16666666666666666, \"interactionType\": 1, \"questionType\": 2, \"questionId\": \"1_RoundFunctionProblem\", \"learnToolsVersion\": \"0.3.5\", \"failureMessage\": \"\", \"exceptionClass\": \"\", \"trace\": \"\"}}, \"*\")"
      ],
      "text/plain": [
       "<IPython.core.display.Javascript object>"
      ]
     },
     "metadata": {},
     "output_type": "display_data"
    },
    {
     "data": {
      "text/markdown": [
       "<span style=\"color:#33cc33\">Correct</span>"
      ],
      "text/plain": [
       "Correct"
      ]
     },
     "metadata": {},
     "output_type": "display_data"
    }
   ],
   "source": [
    "def round_to_two_places(num):\n",
    "    \"\"\"Return the given number rounded to two decimal places. \n",
    "    \n",
    "    >>> round_to_two_places(3.14159)\n",
    "    3.14\n",
    "    \"\"\"\n",
    "    return round(num,2)\n",
    "    # Replace this body with your own code.\n",
    "    # (\"pass\" is a keyword that does literally nothing. We used it as a placeholder\n",
    "    # because after we begin a code block, Python requires at least one line of code)\n",
    "    pass\n",
    "\n",
    "# Check your answer\n",
    "q1.check()"
   ]
  },
  {
   "cell_type": "code",
   "execution_count": 3,
   "id": "a404294a",
   "metadata": {
    "execution": {
     "iopub.execute_input": "2025-06-23T08:17:19.178397Z",
     "iopub.status.busy": "2025-06-23T08:17:19.178002Z",
     "iopub.status.idle": "2025-06-23T08:17:19.182150Z",
     "shell.execute_reply": "2025-06-23T08:17:19.181303Z"
    },
    "papermill": {
     "duration": 0.010547,
     "end_time": "2025-06-23T08:17:19.183628",
     "exception": false,
     "start_time": "2025-06-23T08:17:19.173081",
     "status": "completed"
    },
    "tags": []
   },
   "outputs": [],
   "source": [
    "# Uncomment the following for a hint\n",
    "#q1.hint()\n",
    "# Or uncomment the following to peek at the solution\n",
    "#q1.solution()"
   ]
  },
  {
   "cell_type": "markdown",
   "id": "e761b27e",
   "metadata": {
    "papermill": {
     "duration": 0.003367,
     "end_time": "2025-06-23T08:17:19.190960",
     "exception": false,
     "start_time": "2025-06-23T08:17:19.187593",
     "status": "completed"
    },
    "tags": []
   },
   "source": [
    "# 2.\n",
    "The help for `round` says that `ndigits` (the second argument) may be negative.\n",
    "What do you think will happen when it is? Try some examples in the following cell."
   ]
  },
  {
   "cell_type": "code",
   "execution_count": 4,
   "id": "c47403de",
   "metadata": {
    "execution": {
     "iopub.execute_input": "2025-06-23T08:17:19.199793Z",
     "iopub.status.busy": "2025-06-23T08:17:19.199465Z",
     "iopub.status.idle": "2025-06-23T08:17:19.204108Z",
     "shell.execute_reply": "2025-06-23T08:17:19.203260Z"
    },
    "papermill": {
     "duration": 0.011053,
     "end_time": "2025-06-23T08:17:19.205643",
     "exception": false,
     "start_time": "2025-06-23T08:17:19.194590",
     "status": "completed"
    },
    "tags": []
   },
   "outputs": [],
   "source": [
    "def round_to_two_places(num):\n",
    "\n",
    "    return round(num,2)"
   ]
  },
  {
   "cell_type": "markdown",
   "id": "ed679971",
   "metadata": {
    "papermill": {
     "duration": 0.003392,
     "end_time": "2025-06-23T08:17:19.212891",
     "exception": false,
     "start_time": "2025-06-23T08:17:19.209499",
     "status": "completed"
    },
    "tags": []
   },
   "source": [
    "Can you think of a case where this would be useful?  Once you're ready, run the code cell below to see the answer and to receive credit for completing the problem."
   ]
  },
  {
   "cell_type": "code",
   "execution_count": 5,
   "id": "e310ff42",
   "metadata": {
    "execution": {
     "iopub.execute_input": "2025-06-23T08:17:19.221533Z",
     "iopub.status.busy": "2025-06-23T08:17:19.221222Z",
     "iopub.status.idle": "2025-06-23T08:17:19.228598Z",
     "shell.execute_reply": "2025-06-23T08:17:19.227691Z"
    },
    "papermill": {
     "duration": 0.013616,
     "end_time": "2025-06-23T08:17:19.230251",
     "exception": false,
     "start_time": "2025-06-23T08:17:19.216635",
     "status": "completed"
    },
    "tags": []
   },
   "outputs": [
    {
     "data": {
      "application/javascript": [
       "parent.postMessage({\"jupyterEvent\": \"custom.exercise_interaction\", \"data\": {\"interactionType\": 3, \"questionType\": 4, \"questionId\": \"2_RoundNdigitsProblem\", \"learnToolsVersion\": \"0.3.5\", \"valueTowardsCompletion\": 0.0, \"failureMessage\": \"\", \"exceptionClass\": \"\", \"trace\": \"\", \"outcomeType\": 4}}, \"*\")"
      ],
      "text/plain": [
       "<IPython.core.display.Javascript object>"
      ]
     },
     "metadata": {},
     "output_type": "display_data"
    },
    {
     "data": {
      "text/markdown": [
       "<span style=\"color:#33cc99\">Solution:</span> As you've seen, `ndigits=-1` rounds to the nearest 10, `ndigits=-2` rounds to the nearest 100 and so on. Where might this be useful? Suppose we're dealing with large numbers:\n",
       "\n",
       "> The area of Finland is 338,424 km²  \n",
       "> The area of Greenland is 2,166,086 km²\n",
       "\n",
       "We probably don't care whether it's really 338,424, or 338,425, or 338,177. All those digits of accuracy are just distracting. We can chop them off by calling `round()` with `ndigits=-3`:\n",
       "\n",
       "> The area of Finland is 338,000 km²  \n",
       "> The area of Greenland is 2,166,000 km²\n",
       "\n",
       "(We'll talk about how we would get the commas later when we talk about string formatting :))\n"
      ],
      "text/plain": [
       "Solution: As you've seen, `ndigits=-1` rounds to the nearest 10, `ndigits=-2` rounds to the nearest 100 and so on. Where might this be useful? Suppose we're dealing with large numbers:\n",
       "\n",
       "> The area of Finland is 338,424 km²  \n",
       "> The area of Greenland is 2,166,086 km²\n",
       "\n",
       "We probably don't care whether it's really 338,424, or 338,425, or 338,177. All those digits of accuracy are just distracting. We can chop them off by calling `round()` with `ndigits=-3`:\n",
       "\n",
       "> The area of Finland is 338,000 km²  \n",
       "> The area of Greenland is 2,166,000 km²\n",
       "\n",
       "(We'll talk about how we would get the commas later when we talk about string formatting :))"
      ]
     },
     "metadata": {},
     "output_type": "display_data"
    }
   ],
   "source": [
    "# Check your answer (Run this code cell to receive credit!)\n",
    "q2.solution()"
   ]
  },
  {
   "cell_type": "markdown",
   "id": "6757aaf8",
   "metadata": {
    "papermill": {
     "duration": 0.004345,
     "end_time": "2025-06-23T08:17:19.239371",
     "exception": false,
     "start_time": "2025-06-23T08:17:19.235026",
     "status": "completed"
    },
    "tags": []
   },
   "source": [
    "# 3.\n",
    "\n",
    "In the previous exercise, the candy-sharing friends Alice, Bob and Carol tried to split candies evenly. For the sake of their friendship, any candies left over would be smashed. For example, if they collectively bring home 91 candies, they'll take 30 each and smash 1.\n",
    "\n",
    "Below is a simple function that will calculate the number of candies to smash for *any* number of total candies.\n",
    "\n",
    "Modify it so that it optionally takes a second argument representing the number of friends the candies are being split between. If no second argument is provided, it should assume 3 friends, as before.\n",
    "\n",
    "Update the docstring to reflect this new behaviour."
   ]
  },
  {
   "cell_type": "code",
   "execution_count": 6,
   "id": "2cb92694",
   "metadata": {
    "execution": {
     "iopub.execute_input": "2025-06-23T08:17:19.249695Z",
     "iopub.status.busy": "2025-06-23T08:17:19.249313Z",
     "iopub.status.idle": "2025-06-23T08:17:19.257378Z",
     "shell.execute_reply": "2025-06-23T08:17:19.256447Z"
    },
    "papermill": {
     "duration": 0.015063,
     "end_time": "2025-06-23T08:17:19.259008",
     "exception": false,
     "start_time": "2025-06-23T08:17:19.243945",
     "status": "completed"
    },
    "tags": []
   },
   "outputs": [
    {
     "data": {
      "application/javascript": [
       "parent.postMessage({\"jupyterEvent\": \"custom.exercise_interaction\", \"data\": {\"outcomeType\": 1, \"valueTowardsCompletion\": 0.16666666666666666, \"interactionType\": 1, \"questionType\": 2, \"questionId\": \"3_CandySmashingFunctionProblem\", \"learnToolsVersion\": \"0.3.5\", \"failureMessage\": \"\", \"exceptionClass\": \"\", \"trace\": \"\"}}, \"*\")"
      ],
      "text/plain": [
       "<IPython.core.display.Javascript object>"
      ]
     },
     "metadata": {},
     "output_type": "display_data"
    },
    {
     "data": {
      "text/markdown": [
       "<span style=\"color:#33cc33\">Correct</span>"
      ],
      "text/plain": [
       "Correct"
      ]
     },
     "metadata": {},
     "output_type": "display_data"
    }
   ],
   "source": [
    "def to_smash(total_candies, n_friends=3):\n",
    "    \"\"\"Return the number of leftover candies that must be smashed after distributing\n",
    "    the given number of candies evenly between 3 friends.\n",
    "    \n",
    "    >>> to_smash(91)\n",
    "    1\n",
    "    \"\"\"\n",
    "    return total_candies % n_friends\n",
    "\n",
    "# Check your answer\n",
    "q3.check()"
   ]
  },
  {
   "cell_type": "code",
   "execution_count": 7,
   "id": "227642de",
   "metadata": {
    "execution": {
     "iopub.execute_input": "2025-06-23T08:17:19.268809Z",
     "iopub.status.busy": "2025-06-23T08:17:19.268210Z",
     "iopub.status.idle": "2025-06-23T08:17:19.272802Z",
     "shell.execute_reply": "2025-06-23T08:17:19.271633Z"
    },
    "papermill": {
     "duration": 0.011234,
     "end_time": "2025-06-23T08:17:19.274431",
     "exception": false,
     "start_time": "2025-06-23T08:17:19.263197",
     "status": "completed"
    },
    "tags": []
   },
   "outputs": [],
   "source": [
    "#q3.hint()"
   ]
  },
  {
   "cell_type": "code",
   "execution_count": 8,
   "id": "90fbe402",
   "metadata": {
    "execution": {
     "iopub.execute_input": "2025-06-23T08:17:19.284184Z",
     "iopub.status.busy": "2025-06-23T08:17:19.283855Z",
     "iopub.status.idle": "2025-06-23T08:17:19.288851Z",
     "shell.execute_reply": "2025-06-23T08:17:19.287553Z"
    },
    "papermill": {
     "duration": 0.011894,
     "end_time": "2025-06-23T08:17:19.290603",
     "exception": false,
     "start_time": "2025-06-23T08:17:19.278709",
     "status": "completed"
    },
    "tags": []
   },
   "outputs": [],
   "source": [
    "#q3.solution()"
   ]
  },
  {
   "cell_type": "markdown",
   "id": "cd680996",
   "metadata": {
    "papermill": {
     "duration": 0.003801,
     "end_time": "2025-06-23T08:17:19.298606",
     "exception": false,
     "start_time": "2025-06-23T08:17:19.294805",
     "status": "completed"
    },
    "tags": []
   },
   "source": [
    "# 4. (Optional)\n",
    "\n",
    "It may not be fun, but reading and understanding error messages will be an important part of your Python career.\n",
    "\n",
    "Each code cell below contains some commented buggy code. For each cell...\n",
    "\n",
    "1. Read the code and predict what you think will happen when it's run.\n",
    "2. Then uncomment the code and run it to see what happens. (**Tip**: In the kernel editor, you can highlight several lines and press `ctrl`+`/` to toggle commenting.)\n",
    "3. Fix the code (so that it accomplishes its intended purpose without throwing an exception)\n",
    "\n",
    "<!-- TODO: should this be autochecked? Delta is probably pretty small. -->"
   ]
  },
  {
   "cell_type": "code",
   "execution_count": 9,
   "id": "99dd580c",
   "metadata": {
    "execution": {
     "iopub.execute_input": "2025-06-23T08:17:19.308067Z",
     "iopub.status.busy": "2025-06-23T08:17:19.307772Z",
     "iopub.status.idle": "2025-06-23T08:17:19.313766Z",
     "shell.execute_reply": "2025-06-23T08:17:19.312812Z"
    },
    "papermill": {
     "duration": 0.012652,
     "end_time": "2025-06-23T08:17:19.315256",
     "exception": false,
     "start_time": "2025-06-23T08:17:19.302604",
     "status": "completed"
    },
    "tags": []
   },
   "outputs": [
    {
     "data": {
      "text/plain": [
       "10.0"
      ]
     },
     "execution_count": 9,
     "metadata": {},
     "output_type": "execute_result"
    }
   ],
   "source": [
    " round(9.9999, 2)"
   ]
  },
  {
   "cell_type": "code",
   "execution_count": 10,
   "id": "726f7ca3",
   "metadata": {
    "execution": {
     "iopub.execute_input": "2025-06-23T08:17:19.325469Z",
     "iopub.status.busy": "2025-06-23T08:17:19.325121Z",
     "iopub.status.idle": "2025-06-23T08:17:19.330300Z",
     "shell.execute_reply": "2025-06-23T08:17:19.329270Z"
    },
    "papermill": {
     "duration": 0.01185,
     "end_time": "2025-06-23T08:17:19.331954",
     "exception": false,
     "start_time": "2025-06-23T08:17:19.320104",
     "status": "completed"
    },
    "tags": []
   },
   "outputs": [],
   "source": [
    " x = -10\n",
    " y = 5\n",
    " # Which of the two variables above has the smallest absolute value?\n",
    " smallest_abs = min(abs(x), abs(y))"
   ]
  },
  {
   "cell_type": "code",
   "execution_count": 11,
   "id": "667dbb79",
   "metadata": {
    "execution": {
     "iopub.execute_input": "2025-06-23T08:17:19.342018Z",
     "iopub.status.busy": "2025-06-23T08:17:19.341687Z",
     "iopub.status.idle": "2025-06-23T08:17:19.347127Z",
     "shell.execute_reply": "2025-06-23T08:17:19.346011Z"
    },
    "papermill": {
     "duration": 0.012646,
     "end_time": "2025-06-23T08:17:19.348947",
     "exception": false,
     "start_time": "2025-06-23T08:17:19.336301",
     "status": "completed"
    },
    "tags": []
   },
   "outputs": [
    {
     "name": "stdout",
     "output_type": "stream",
     "text": [
      "5\n"
     ]
    }
   ],
   "source": [
    " def f(x):\n",
    "     y = abs(x)\n",
    "     return y\n",
    "\n",
    " print(f(y))"
   ]
  },
  {
   "cell_type": "markdown",
   "id": "d25bea51",
   "metadata": {
    "papermill": {
     "duration": 0.003996,
     "end_time": "2025-06-23T08:17:19.357691",
     "exception": false,
     "start_time": "2025-06-23T08:17:19.353695",
     "status": "completed"
    },
    "tags": []
   },
   "source": [
    "# Keep Going\n",
    "\n",
    "Nice job with the code. Next up, you'll learn about *conditionals*, which you'll need to **[write interesting programs](https://www.kaggle.com/colinmorris/booleans-and-conditionals)**. "
   ]
  },
  {
   "cell_type": "markdown",
   "id": "865924f2",
   "metadata": {
    "papermill": {
     "duration": 0.003881,
     "end_time": "2025-06-23T08:17:19.365648",
     "exception": false,
     "start_time": "2025-06-23T08:17:19.361767",
     "status": "completed"
    },
    "tags": []
   },
   "source": [
    "---\n",
    "\n",
    "\n",
    "\n",
    "\n",
    "*Have questions or comments? Visit the [course discussion forum](https://www.kaggle.com/learn/python/discussion) to chat with other learners.*"
   ]
  }
 ],
 "metadata": {
  "kaggle": {
   "accelerator": "none",
   "dataSources": [],
   "isGpuEnabled": false,
   "isInternetEnabled": false,
   "language": "python",
   "sourceType": "notebook"
  },
  "kernelspec": {
   "display_name": "Python 3",
   "language": "python",
   "name": "python3"
  },
  "language_info": {
   "codemirror_mode": {
    "name": "ipython",
    "version": 3
   },
   "file_extension": ".py",
   "mimetype": "text/x-python",
   "name": "python",
   "nbconvert_exporter": "python",
   "pygments_lexer": "ipython3",
   "version": "3.11.11"
  },
  "learntools_metadata": {
   "lesson_index": 1,
   "type": "exercise"
  },
  "papermill": {
   "default_parameters": {},
   "duration": 8.062546,
   "end_time": "2025-06-23T08:17:19.889704",
   "environment_variables": {},
   "exception": null,
   "input_path": "__notebook__.ipynb",
   "output_path": "__notebook__.ipynb",
   "parameters": {},
   "start_time": "2025-06-23T08:17:11.827158",
   "version": "2.6.0"
  }
 },
 "nbformat": 4,
 "nbformat_minor": 5
}
